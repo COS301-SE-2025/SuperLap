{
 "cells": [
  {
   "cell_type": "code",
   "execution_count": 80,
   "metadata": {
    "_cell_guid": "79c7e3d0-c299-4dcb-8224-4455121ee9b0",
    "_uuid": "d629ff2d2480ee46fbb7e2d37f6b5fab8052498a",
    "papermill": {
     "duration": 4.206007,
     "end_time": "2021-09-25T04:59:24.659764",
     "exception": false,
     "start_time": "2021-09-25T04:59:20.453757",
     "status": "completed"
    },
    "tags": []
   },
   "outputs": [],
   "source": [
    "\n",
    "# This script imports necessary libraries for image processing and deep learning using U-Net architecture.\n",
    "import os\n",
    "import numpy as np\n",
    "import cv2\n",
    "import matplotlib.pyplot as plt\n",
    "import tensorflow as tf\n",
    "from tensorflow.keras import layers\n"
   ]
  },
  {
   "cell_type": "code",
   "execution_count": 81,
   "metadata": {
    "papermill": {
     "duration": 0.024113,
     "end_time": "2021-09-25T04:59:24.695402",
     "exception": false,
     "start_time": "2021-09-25T04:59:24.671289",
     "status": "completed"
    },
    "tags": []
   },
   "outputs": [],
   "source": [
    "framObjTrain = {'img' : [],\n",
    "                'mask' : []\n",
    "               }\n",
    "\n",
    "\n",
    "\n",
    "def random_saturation(image):\n",
    "    return tf.image.random_saturation(image, lower=0.7, upper=1.3)\n",
    "\n",
    "data_augmentation = tf.keras.Sequential([\n",
    "    layers.RandomFlip(\"horizontal_and_vertical\"),\n",
    "    layers.RandomRotation(0.055),    # ~20° in radians\n",
    "    layers.RandomContrast(0.2),\n",
    "    layers.Lambda(random_saturation),\n",
    "    layers.RandomZoom(0.2),\n",
    "], name=\"data_augmentation\")\n",
    "\n",
    "\n",
    "def LoadData(frameObj=None, imgPath=None, maskPath=None, shape=128):\n",
    "    \"\"\"\n",
    "    Load data from image and mask directories and resize them to the specified shape.\n",
    "    \"\"\"\n",
    "    imgNames = os.listdir(imgPath)\n",
    "    maskNames = []\n",
    "\n",
    "    # generating mask names\n",
    "    for mem in imgNames:\n",
    "        mem = mem.split('_')[0]\n",
    "        if mem not in maskNames:\n",
    "            maskNames.append(mem)\n",
    "\n",
    "    imgAddr = imgPath + '/'\n",
    "    maskAddr = maskPath + '/'\n",
    "\n",
    "    for i in range(len(imgNames)):\n",
    "        try:\n",
    "            img = plt.imread(imgAddr + maskNames[i] + '_sat.jpg')\n",
    "            mask = plt.imread(maskAddr + maskNames[i] + '_mask.png')\n",
    "        except:\n",
    "            continue\n",
    "\n",
    "        img = cv2.resize(img, (shape, shape))\n",
    "        mask = cv2.resize(mask, (shape, shape))\n",
    "        \n",
    "        # handle grayscale or RGB masks\n",
    "        if len(mask.shape) == 3:\n",
    "            mask = mask[:, :, 0]\n",
    "\n",
    "        # binarize mask\n",
    "        mask = (mask > 0).astype(np.uint8)\n",
    "        \n",
    "        frameObj['img'].append(img)\n",
    "        frameObj['mask'].append(mask)\n",
    "\n",
    "    return frameObj"
   ]
  },
  {
   "cell_type": "code",
   "execution_count": 82,
   "metadata": {
    "papermill": {
     "duration": 0.040037,
     "end_time": "2021-09-25T04:59:24.745757",
     "exception": false,
     "start_time": "2021-09-25T04:59:24.70572",
     "status": "completed"
    },
    "tags": []
   },
   "outputs": [],
   "source": [
    "def Conv2dBlock(inputTensor, numFilters, kernelSize = 3, doBatchNorm = True):\n",
    "    \"\"\"\n",
    "    Creates a convolutional block consisting of two convolutional layers with batch normalization and ReLU activation.\n",
    "    \n",
    "    Parameters:\n",
    "    inputTensor (Tensor): Input tensor to the convolutional block.\n",
    "    numFilters (int): Number of filters for the convolutional layers.\n",
    "    kernelSize (int): Size of the kernel for the convolutional layers. Default is 3.\n",
    "    doBatchNorm (bool): Whether to apply batch normalization. Default is True.\n",
    "    \n",
    "    Returns:\n",
    "    Tensor: Output tensor from the convolutional block.\n",
    "    \"\"\"\n",
    "    x = tf.keras.layers.Conv2D(filters = numFilters, kernel_size = (kernelSize, kernelSize),\n",
    "                              kernel_initializer = 'he_normal', padding = 'same') (inputTensor)\n",
    "    \n",
    "    if doBatchNorm:\n",
    "        x = tf.keras.layers.BatchNormalization()(x)\n",
    "        \n",
    "    x =tf.keras.layers.Activation('relu')(x)\n",
    "    \n",
    "    x = tf.keras.layers.Conv2D(filters = numFilters, kernel_size = (kernelSize, kernelSize),\n",
    "                              kernel_initializer = 'he_normal', padding = 'same') (x)\n",
    "    if doBatchNorm:\n",
    "        x = tf.keras.layers.BatchNormalization()(x)\n",
    "        \n",
    "    x = tf.keras.layers.Activation('relu')(x)\n",
    "    \n",
    "    return x\n",
    "\n",
    "def unetBlock(inputImage, numFilters = 16, droupouts = 0.1, doBatchNorm = True):\n",
    "    \"\"\"\n",
    "    Creates a U-Net model for semantic segmentation.\n",
    "\n",
    "    Parameters:\n",
    "    - inputImage: Input image tensor.\n",
    "    - numFilters: Number of filters in the first convolutional layer (default: 16).\n",
    "    - droupouts: Dropout rate (default: 0.1).\n",
    "    - doBatchNorm: Whether to apply batch normalization (default: True).\n",
    "\n",
    "    Returns:\n",
    "    - model: U-Net model for semantic segmentation.\n",
    "    \"\"\"\n",
    "    c1 = Conv2dBlock(inputImage, numFilters * 1, kernelSize = 3, doBatchNorm = doBatchNorm)\n",
    "    p1 = tf.keras.layers.MaxPooling2D((2,2))(c1)\n",
    "    p1 = tf.keras.layers.Dropout(droupouts)(p1)\n",
    "    \n",
    "    c2 = Conv2dBlock(p1, numFilters * 2, kernelSize = 3, doBatchNorm = doBatchNorm)\n",
    "    p2 = tf.keras.layers.MaxPooling2D((2,2))(c2)\n",
    "    p2 = tf.keras.layers.Dropout(droupouts)(p2)\n",
    "    \n",
    "    c3 = Conv2dBlock(p2, numFilters * 4, kernelSize = 3, doBatchNorm = doBatchNorm)\n",
    "    p3 = tf.keras.layers.MaxPooling2D((2,2))(c3)\n",
    "    p3 = tf.keras.layers.Dropout(droupouts)(p3)\n",
    "    \n",
    "    c4 = Conv2dBlock(p3, numFilters * 8, kernelSize = 3, doBatchNorm = doBatchNorm)\n",
    "    p4 = tf.keras.layers.MaxPooling2D((2,2))(c4)\n",
    "    p4 = tf.keras.layers.Dropout(droupouts)(p4)\n",
    "    \n",
    "    c5 = Conv2dBlock(p4, numFilters * 16, kernelSize = 3, doBatchNorm = doBatchNorm)\n",
    "    \n",
    "    u6 = tf.keras.layers.Conv2DTranspose(numFilters*8, (3, 3), strides = (2, 2), padding = 'same')(c5)\n",
    "    u6 = tf.keras.layers.concatenate([u6, c4])\n",
    "    u6 = tf.keras.layers.Dropout(droupouts)(u6)\n",
    "    c6 = Conv2dBlock(u6, numFilters * 8, kernelSize = 3, doBatchNorm = doBatchNorm)\n",
    "    \n",
    "    u7 = tf.keras.layers.Conv2DTranspose(numFilters*4, (3, 3), strides = (2, 2), padding = 'same')(c6)\n",
    "    u7 = tf.keras.layers.concatenate([u7, c3])\n",
    "    u7 = tf.keras.layers.Dropout(droupouts)(u7)\n",
    "    c7 = Conv2dBlock(u7, numFilters * 4, kernelSize = 3, doBatchNorm = doBatchNorm)\n",
    "    \n",
    "    u8 = tf.keras.layers.Conv2DTranspose(numFilters*2, (3, 3), strides = (2, 2), padding = 'same')(c7)\n",
    "    u8 = tf.keras.layers.concatenate([u8, c2])\n",
    "    u8 = tf.keras.layers.Dropout(droupouts)(u8)\n",
    "    c8 = Conv2dBlock(u8, numFilters * 2, kernelSize = 3, doBatchNorm = doBatchNorm)\n",
    "    \n",
    "    u9 = tf.keras.layers.Conv2DTranspose(numFilters*1, (3, 3), strides = (2, 2), padding = 'same')(c8)\n",
    "    u9 = tf.keras.layers.concatenate([u9, c1])\n",
    "    u9 = tf.keras.layers.Dropout(droupouts)(u9)\n",
    "    c9 = Conv2dBlock(u9, numFilters * 1, kernelSize = 3, doBatchNorm = doBatchNorm)\n",
    "    \n",
    "    output = tf.keras.layers.Conv2D(1, (1, 1), activation = 'sigmoid')(c9)\n",
    "    model = tf.keras.Model(inputs = [inputImage], outputs = [output])\n",
    "    return model\n"
   ]
  },
  {
   "cell_type": "code",
   "execution_count": 83,
   "metadata": {
    "papermill": {
     "duration": 3.002494,
     "end_time": "2021-09-25T04:59:27.758345",
     "exception": false,
     "start_time": "2021-09-25T04:59:24.755851",
     "status": "completed"
    },
    "tags": []
   },
   "outputs": [],
   "source": [
    "\"\"\"\n",
    "This code block initializes the input layer for the U-Net model with a shape of (128, 128, 3).\n",
    "It then creates a U-Net model using the `unetBlock` function, with a dropout rate of 0.07.\n",
    "The model is compiled with the Adam optimizer, binary crossentropy loss, and accuracy metric.\n",
    "\"\"\"\n",
    "inputs = tf.keras.layers.Input((128, 128, 3))\n",
    "unet = unetBlock(inputs, droupouts= 0.07)\n",
    "unet.compile(optimizer = 'Adam', loss = 'binary_crossentropy', metrics = ['accuracy'] )\n"
   ]
  },
  {
   "cell_type": "code",
   "execution_count": 84,
   "metadata": {
    "papermill": {
     "duration": 378.836926,
     "end_time": "2021-09-25T05:05:47.906782",
     "exception": false,
     "start_time": "2021-09-25T04:59:29.069856",
     "status": "completed"
    },
    "tags": []
   },
   "outputs": [],
   "source": [
    "\"\"\"\n",
    "This function is used to train the U-Net model for object detection.\n",
    "\"\"\"\n",
    "trainPath = 'data/train'\n",
    "framObjTrain = LoadData( framObjTrain, imgPath = trainPath, \n",
    "                        maskPath = trainPath\n",
    "                         , shape = 128)"
   ]
  },
  {
   "cell_type": "code",
   "execution_count": 85,
   "metadata": {
    "papermill": {
     "duration": 0.287128,
     "end_time": "2021-09-25T05:05:48.216207",
     "exception": false,
     "start_time": "2021-09-25T05:05:47.929079",
     "status": "completed"
    },
    "tags": []
   },
   "outputs": [
    {
     "data": {
      "image/png": "[encoded data removed]",
      "text/plain": [
       "<Figure size 640x480 with 2 Axes>"
      ]
     },
     "metadata": {},
     "output_type": "display_data"
    }
   ],
   "source": [
    "\"\"\"\n",
    "Display the image and mask using subplots.\n",
    "\n",
    "This function plots the image and mask using subplots. It assumes that the `framObjTrain` variable\n",
    "contains a dictionary with the 'img' and 'mask' keys, where the values are arrays representing\n",
    "the image and mask respectively.\n",
    "\n",
    "\"\"\"\n",
    "plt.subplot(1,2,1)\n",
    "plt.imshow(framObjTrain['img'][1])\n",
    "plt.subplot(1,2,2)\n",
    "plt.imshow(framObjTrain['mask'][1])\n",
    "plt.show()\n"
   ]
  },
  {
   "cell_type": "code",
   "execution_count": 86,
   "metadata": {},
   "outputs": [
    {
     "data": {
      "text/plain": [
       "2562"
      ]
     },
     "execution_count": 86,
     "metadata": {},
     "output_type": "execute_result"
    }
   ],
   "source": [
    "len(framObjTrain['img'])"
   ]
  },
  {
   "cell_type": "code",
   "execution_count": 87,
   "metadata": {},
   "outputs": [
    {
     "name": "stdout",
     "output_type": "stream",
     "text": [
      "Epoch 1/83\n",
      "\u001b[1m2562/2562\u001b[0m \u001b[32m━━━━━━━━━━━━━━━━━━━━\u001b[0m\u001b[37m\u001b[0m \u001b[1m147s\u001b[0m 54ms/step - accuracy: 0.8270 - loss: 0.3933\n",
      "Epoch 2/83\n",
      "\u001b[1m2562/2562\u001b[0m \u001b[32m━━━━━━━━━━━━━━━━━━━━\u001b[0m\u001b[37m\u001b[0m \u001b[1m140s\u001b[0m 54ms/step - accuracy: 0.8427 - loss: 0.3582\n",
      "Epoch 3/83\n",
      "\u001b[1m2562/2562\u001b[0m \u001b[32m━━━━━━━━━━━━━━━━━━━━\u001b[0m\u001b[37m\u001b[0m \u001b[1m140s\u001b[0m 55ms/step - accuracy: 0.8503 - loss: 0.3357\n",
      "Epoch 4/83\n",
      "\u001b[1m2562/2562\u001b[0m \u001b[32m━━━━━━━━━━━━━━━━━━━━\u001b[0m\u001b[37m\u001b[0m \u001b[1m142s\u001b[0m 55ms/step - accuracy: 0.8542 - loss: 0.3227\n",
      "Epoch 5/83\n",
      "\u001b[1m2562/2562\u001b[0m \u001b[32m━━━━━━━━━━━━━━━━━━━━\u001b[0m\u001b[37m\u001b[0m \u001b[1m147s\u001b[0m 57ms/step - accuracy: 0.8545 - loss: 0.3220\n",
      "Epoch 6/83\n",
      "\u001b[1m1923/2562\u001b[0m \u001b[32m━━━━━━━━━━━━━━━\u001b[0m\u001b[37m━━━━━\u001b[0m \u001b[1m34s\u001b[0m 55ms/step - accuracy: 0.8635 - loss: 0.2956"
     ]
    },
    {
     "ename": "KeyboardInterrupt",
     "evalue": "",
     "output_type": "error",
     "traceback": [
      "\u001b[31m---------------------------------------------------------------------------\u001b[39m",
      "\u001b[31mKeyboardInterrupt\u001b[39m                         Traceback (most recent call last)",
      "\u001b[36mCell\u001b[39m\u001b[36m \u001b[39m\u001b[32mIn[87]\u001b[39m\u001b[32m, line 16\u001b[39m\n\u001b[32m     11\u001b[39m     \u001b[38;5;28;01mreturn\u001b[39;00m tf.expand_dims(image, axis=\u001b[32m0\u001b[39m), tf.expand_dims(mask, axis=\u001b[32m0\u001b[39m)\n\u001b[32m     14\u001b[39m train_dataset = train_dataset.map(augment_fn)\n\u001b[32m---> \u001b[39m\u001b[32m16\u001b[39m retVal = \u001b[43munet\u001b[49m\u001b[43m.\u001b[49m\u001b[43mfit\u001b[49m\u001b[43m(\u001b[49m\u001b[43mtrain_dataset\u001b[49m\u001b[43m,\u001b[49m\u001b[43m \u001b[49m\u001b[43mepochs\u001b[49m\u001b[43m=\u001b[49m\u001b[32;43m83\u001b[39;49m\u001b[43m,\u001b[49m\u001b[43m \u001b[49m\u001b[43mverbose\u001b[49m\u001b[43m=\u001b[49m\u001b[32;43m1\u001b[39;49m\u001b[43m)\u001b[49m\n",
      "\u001b[36mFile \u001b[39m\u001b[32m~\\AppData\\Roaming\\Python\\Python313\\site-packages\\keras\\src\\utils\\traceback_utils.py:117\u001b[39m, in \u001b[36mfilter_traceback.<locals>.error_handler\u001b[39m\u001b[34m(*args, **kwargs)\u001b[39m\n\u001b[32m    115\u001b[39m filtered_tb = \u001b[38;5;28;01mNone\u001b[39;00m\n\u001b[32m    116\u001b[39m \u001b[38;5;28;01mtry\u001b[39;00m:\n\u001b[32m--> \u001b[39m\u001b[32m117\u001b[39m     \u001b[38;5;28;01mreturn\u001b[39;00m \u001b[43mfn\u001b[49m\u001b[43m(\u001b[49m\u001b[43m*\u001b[49m\u001b[43margs\u001b[49m\u001b[43m,\u001b[49m\u001b[43m \u001b[49m\u001b[43m*\u001b[49m\u001b[43m*\u001b[49m\u001b[43mkwargs\u001b[49m\u001b[43m)\u001b[49m\n\u001b[32m    118\u001b[39m \u001b[38;5;28;01mexcept\u001b[39;00m \u001b[38;5;167;01mException\u001b[39;00m \u001b[38;5;28;01mas\u001b[39;00m e:\n\u001b[32m    119\u001b[39m     filtered_tb = _process_traceback_frames(e.__traceback__)\n",
      "\u001b[36mFile \u001b[39m\u001b[32m~\\AppData\\Roaming\\Python\\Python313\\site-packages\\keras\\src\\backend\\tensorflow\\trainer.py:377\u001b[39m, in \u001b[36mTensorFlowTrainer.fit\u001b[39m\u001b[34m(self, x, y, batch_size, epochs, verbose, callbacks, validation_split, validation_data, shuffle, class_weight, sample_weight, initial_epoch, steps_per_epoch, validation_steps, validation_batch_size, validation_freq)\u001b[39m\n\u001b[32m    375\u001b[39m \u001b[38;5;28;01mfor\u001b[39;00m begin_step, end_step, iterator \u001b[38;5;129;01min\u001b[39;00m epoch_iterator:\n\u001b[32m    376\u001b[39m     callbacks.on_train_batch_begin(begin_step)\n\u001b[32m--> \u001b[39m\u001b[32m377\u001b[39m     logs = \u001b[38;5;28;43mself\u001b[39;49m\u001b[43m.\u001b[49m\u001b[43mtrain_function\u001b[49m\u001b[43m(\u001b[49m\u001b[43miterator\u001b[49m\u001b[43m)\u001b[49m\n\u001b[32m    378\u001b[39m     callbacks.on_train_batch_end(end_step, logs)\n\u001b[32m    379\u001b[39m     \u001b[38;5;28;01mif\u001b[39;00m \u001b[38;5;28mself\u001b[39m.stop_training:\n",
      "\u001b[36mFile \u001b[39m\u001b[32m~\\AppData\\Roaming\\Python\\Python313\\site-packages\\keras\\src\\backend\\tensorflow\\trainer.py:220\u001b[39m, in \u001b[36mTensorFlowTrainer._make_function.<locals>.function\u001b[39m\u001b[34m(iterator)\u001b[39m\n\u001b[32m    216\u001b[39m \u001b[38;5;28;01mdef\u001b[39;00m\u001b[38;5;250m \u001b[39m\u001b[34mfunction\u001b[39m(iterator):\n\u001b[32m    217\u001b[39m     \u001b[38;5;28;01mif\u001b[39;00m \u001b[38;5;28misinstance\u001b[39m(\n\u001b[32m    218\u001b[39m         iterator, (tf.data.Iterator, tf.distribute.DistributedIterator)\n\u001b[32m    219\u001b[39m     ):\n\u001b[32m--> \u001b[39m\u001b[32m220\u001b[39m         opt_outputs = \u001b[43mmulti_step_on_iterator\u001b[49m\u001b[43m(\u001b[49m\u001b[43miterator\u001b[49m\u001b[43m)\u001b[49m\n\u001b[32m    221\u001b[39m         \u001b[38;5;28;01mif\u001b[39;00m \u001b[38;5;129;01mnot\u001b[39;00m opt_outputs.has_value():\n\u001b[32m    222\u001b[39m             \u001b[38;5;28;01mraise\u001b[39;00m \u001b[38;5;167;01mStopIteration\u001b[39;00m\n",
      "\u001b[36mFile \u001b[39m\u001b[32m~\\AppData\\Roaming\\Python\\Python313\\site-packages\\tensorflow\\python\\util\\traceback_utils.py:150\u001b[39m, in \u001b[36mfilter_traceback.<locals>.error_handler\u001b[39m\u001b[34m(*args, **kwargs)\u001b[39m\n\u001b[32m    148\u001b[39m filtered_tb = \u001b[38;5;28;01mNone\u001b[39;00m\n\u001b[32m    149\u001b[39m \u001b[38;5;28;01mtry\u001b[39;00m:\n\u001b[32m--> \u001b[39m\u001b[32m150\u001b[39m   \u001b[38;5;28;01mreturn\u001b[39;00m \u001b[43mfn\u001b[49m\u001b[43m(\u001b[49m\u001b[43m*\u001b[49m\u001b[43margs\u001b[49m\u001b[43m,\u001b[49m\u001b[43m \u001b[49m\u001b[43m*\u001b[49m\u001b[43m*\u001b[49m\u001b[43mkwargs\u001b[49m\u001b[43m)\u001b[49m\n\u001b[32m    151\u001b[39m \u001b[38;5;28;01mexcept\u001b[39;00m \u001b[38;5;167;01mException\u001b[39;00m \u001b[38;5;28;01mas\u001b[39;00m e:\n\u001b[32m    152\u001b[39m   filtered_tb = _process_traceback_frames(e.__traceback__)\n",
      "\u001b[36mFile \u001b[39m\u001b[32m~\\AppData\\Roaming\\Python\\Python313\\site-packages\\tensorflow\\python\\eager\\polymorphic_function\\polymorphic_function.py:833\u001b[39m, in \u001b[36mFunction.__call__\u001b[39m\u001b[34m(self, *args, **kwds)\u001b[39m\n\u001b[32m    830\u001b[39m compiler = \u001b[33m\"\u001b[39m\u001b[33mxla\u001b[39m\u001b[33m\"\u001b[39m \u001b[38;5;28;01mif\u001b[39;00m \u001b[38;5;28mself\u001b[39m._jit_compile \u001b[38;5;28;01melse\u001b[39;00m \u001b[33m\"\u001b[39m\u001b[33mnonXla\u001b[39m\u001b[33m\"\u001b[39m\n\u001b[32m    832\u001b[39m \u001b[38;5;28;01mwith\u001b[39;00m OptionalXlaContext(\u001b[38;5;28mself\u001b[39m._jit_compile):\n\u001b[32m--> \u001b[39m\u001b[32m833\u001b[39m   result = \u001b[38;5;28;43mself\u001b[39;49m\u001b[43m.\u001b[49m\u001b[43m_call\u001b[49m\u001b[43m(\u001b[49m\u001b[43m*\u001b[49m\u001b[43margs\u001b[49m\u001b[43m,\u001b[49m\u001b[43m \u001b[49m\u001b[43m*\u001b[49m\u001b[43m*\u001b[49m\u001b[43mkwds\u001b[49m\u001b[43m)\u001b[49m\n\u001b[32m    835\u001b[39m new_tracing_count = \u001b[38;5;28mself\u001b[39m.experimental_get_tracing_count()\n\u001b[32m    836\u001b[39m without_tracing = (tracing_count == new_tracing_count)\n",
      "\u001b[36mFile \u001b[39m\u001b[32m~\\AppData\\Roaming\\Python\\Python313\\site-packages\\tensorflow\\python\\eager\\polymorphic_function\\polymorphic_function.py:878\u001b[39m, in \u001b[36mFunction._call\u001b[39m\u001b[34m(self, *args, **kwds)\u001b[39m\n\u001b[32m    875\u001b[39m \u001b[38;5;28mself\u001b[39m._lock.release()\n\u001b[32m    876\u001b[39m \u001b[38;5;66;03m# In this case we have not created variables on the first call. So we can\u001b[39;00m\n\u001b[32m    877\u001b[39m \u001b[38;5;66;03m# run the first trace but we should fail if variables are created.\u001b[39;00m\n\u001b[32m--> \u001b[39m\u001b[32m878\u001b[39m results = \u001b[43mtracing_compilation\u001b[49m\u001b[43m.\u001b[49m\u001b[43mcall_function\u001b[49m\u001b[43m(\u001b[49m\n\u001b[32m    879\u001b[39m \u001b[43m    \u001b[49m\u001b[43margs\u001b[49m\u001b[43m,\u001b[49m\u001b[43m \u001b[49m\u001b[43mkwds\u001b[49m\u001b[43m,\u001b[49m\u001b[43m \u001b[49m\u001b[38;5;28;43mself\u001b[39;49m\u001b[43m.\u001b[49m\u001b[43m_variable_creation_config\u001b[49m\n\u001b[32m    880\u001b[39m \u001b[43m\u001b[49m\u001b[43m)\u001b[49m\n\u001b[32m    881\u001b[39m \u001b[38;5;28;01mif\u001b[39;00m \u001b[38;5;28mself\u001b[39m._created_variables:\n\u001b[32m    882\u001b[39m   \u001b[38;5;28;01mraise\u001b[39;00m \u001b[38;5;167;01mValueError\u001b[39;00m(\u001b[33m\"\u001b[39m\u001b[33mCreating variables on a non-first call to a function\u001b[39m\u001b[33m\"\u001b[39m\n\u001b[32m    883\u001b[39m                    \u001b[33m\"\u001b[39m\u001b[33m decorated with tf.function.\u001b[39m\u001b[33m\"\u001b[39m)\n",
      "\u001b[36mFile \u001b[39m\u001b[32m~\\AppData\\Roaming\\Python\\Python313\\site-packages\\tensorflow\\python\\eager\\polymorphic_function\\tracing_compilation.py:139\u001b[39m, in \u001b[36mcall_function\u001b[39m\u001b[34m(args, kwargs, tracing_options)\u001b[39m\n\u001b[32m    137\u001b[39m bound_args = function.function_type.bind(*args, **kwargs)\n\u001b[32m    138\u001b[39m flat_inputs = function.function_type.unpack_inputs(bound_args)\n\u001b[32m--> \u001b[39m\u001b[32m139\u001b[39m \u001b[38;5;28;01mreturn\u001b[39;00m \u001b[43mfunction\u001b[49m\u001b[43m.\u001b[49m\u001b[43m_call_flat\u001b[49m\u001b[43m(\u001b[49m\u001b[43m  \u001b[49m\u001b[38;5;66;43;03m# pylint: disable=protected-access\u001b[39;49;00m\n\u001b[32m    140\u001b[39m \u001b[43m    \u001b[49m\u001b[43mflat_inputs\u001b[49m\u001b[43m,\u001b[49m\u001b[43m \u001b[49m\u001b[43mcaptured_inputs\u001b[49m\u001b[43m=\u001b[49m\u001b[43mfunction\u001b[49m\u001b[43m.\u001b[49m\u001b[43mcaptured_inputs\u001b[49m\n\u001b[32m    141\u001b[39m \u001b[43m\u001b[49m\u001b[43m)\u001b[49m\n",
      "\u001b[36mFile \u001b[39m\u001b[32m~\\AppData\\Roaming\\Python\\Python313\\site-packages\\tensorflow\\python\\eager\\polymorphic_function\\concrete_function.py:1322\u001b[39m, in \u001b[36mConcreteFunction._call_flat\u001b[39m\u001b[34m(self, tensor_inputs, captured_inputs)\u001b[39m\n\u001b[32m   1318\u001b[39m possible_gradient_type = gradients_util.PossibleTapeGradientTypes(args)\n\u001b[32m   1319\u001b[39m \u001b[38;5;28;01mif\u001b[39;00m (possible_gradient_type == gradients_util.POSSIBLE_GRADIENT_TYPES_NONE\n\u001b[32m   1320\u001b[39m     \u001b[38;5;129;01mand\u001b[39;00m executing_eagerly):\n\u001b[32m   1321\u001b[39m   \u001b[38;5;66;03m# No tape is watching; skip to running the function.\u001b[39;00m\n\u001b[32m-> \u001b[39m\u001b[32m1322\u001b[39m   \u001b[38;5;28;01mreturn\u001b[39;00m \u001b[38;5;28;43mself\u001b[39;49m\u001b[43m.\u001b[49m\u001b[43m_inference_function\u001b[49m\u001b[43m.\u001b[49m\u001b[43mcall_preflattened\u001b[49m\u001b[43m(\u001b[49m\u001b[43margs\u001b[49m\u001b[43m)\u001b[49m\n\u001b[32m   1323\u001b[39m forward_backward = \u001b[38;5;28mself\u001b[39m._select_forward_and_backward_functions(\n\u001b[32m   1324\u001b[39m     args,\n\u001b[32m   1325\u001b[39m     possible_gradient_type,\n\u001b[32m   1326\u001b[39m     executing_eagerly)\n\u001b[32m   1327\u001b[39m forward_function, args_with_tangents = forward_backward.forward()\n",
      "\u001b[36mFile \u001b[39m\u001b[32m~\\AppData\\Roaming\\Python\\Python313\\site-packages\\tensorflow\\python\\eager\\polymorphic_function\\atomic_function.py:216\u001b[39m, in \u001b[36mAtomicFunction.call_preflattened\u001b[39m\u001b[34m(self, args)\u001b[39m\n\u001b[32m    214\u001b[39m \u001b[38;5;28;01mdef\u001b[39;00m\u001b[38;5;250m \u001b[39m\u001b[34mcall_preflattened\u001b[39m(\u001b[38;5;28mself\u001b[39m, args: Sequence[core.Tensor]) -> Any:\n\u001b[32m    215\u001b[39m \u001b[38;5;250m  \u001b[39m\u001b[33;03m\"\"\"Calls with flattened tensor inputs and returns the structured output.\"\"\"\u001b[39;00m\n\u001b[32m--> \u001b[39m\u001b[32m216\u001b[39m   flat_outputs = \u001b[38;5;28;43mself\u001b[39;49m\u001b[43m.\u001b[49m\u001b[43mcall_flat\u001b[49m\u001b[43m(\u001b[49m\u001b[43m*\u001b[49m\u001b[43margs\u001b[49m\u001b[43m)\u001b[49m\n\u001b[32m    217\u001b[39m   \u001b[38;5;28;01mreturn\u001b[39;00m \u001b[38;5;28mself\u001b[39m.function_type.pack_output(flat_outputs)\n",
      "\u001b[36mFile \u001b[39m\u001b[32m~\\AppData\\Roaming\\Python\\Python313\\site-packages\\tensorflow\\python\\eager\\polymorphic_function\\atomic_function.py:251\u001b[39m, in \u001b[36mAtomicFunction.call_flat\u001b[39m\u001b[34m(self, *args)\u001b[39m\n\u001b[32m    249\u001b[39m \u001b[38;5;28;01mwith\u001b[39;00m record.stop_recording():\n\u001b[32m    250\u001b[39m   \u001b[38;5;28;01mif\u001b[39;00m \u001b[38;5;28mself\u001b[39m._bound_context.executing_eagerly():\n\u001b[32m--> \u001b[39m\u001b[32m251\u001b[39m     outputs = \u001b[38;5;28;43mself\u001b[39;49m\u001b[43m.\u001b[49m\u001b[43m_bound_context\u001b[49m\u001b[43m.\u001b[49m\u001b[43mcall_function\u001b[49m\u001b[43m(\u001b[49m\n\u001b[32m    252\u001b[39m \u001b[43m        \u001b[49m\u001b[38;5;28;43mself\u001b[39;49m\u001b[43m.\u001b[49m\u001b[43mname\u001b[49m\u001b[43m,\u001b[49m\n\u001b[32m    253\u001b[39m \u001b[43m        \u001b[49m\u001b[38;5;28;43mlist\u001b[39;49m\u001b[43m(\u001b[49m\u001b[43margs\u001b[49m\u001b[43m)\u001b[49m\u001b[43m,\u001b[49m\n\u001b[32m    254\u001b[39m \u001b[43m        \u001b[49m\u001b[38;5;28;43mlen\u001b[39;49m\u001b[43m(\u001b[49m\u001b[38;5;28;43mself\u001b[39;49m\u001b[43m.\u001b[49m\u001b[43mfunction_type\u001b[49m\u001b[43m.\u001b[49m\u001b[43mflat_outputs\u001b[49m\u001b[43m)\u001b[49m\u001b[43m,\u001b[49m\n\u001b[32m    255\u001b[39m \u001b[43m    \u001b[49m\u001b[43m)\u001b[49m\n\u001b[32m    256\u001b[39m   \u001b[38;5;28;01melse\u001b[39;00m:\n\u001b[32m    257\u001b[39m     outputs = make_call_op_in_graph(\n\u001b[32m    258\u001b[39m         \u001b[38;5;28mself\u001b[39m,\n\u001b[32m    259\u001b[39m         \u001b[38;5;28mlist\u001b[39m(args),\n\u001b[32m    260\u001b[39m         \u001b[38;5;28mself\u001b[39m._bound_context.function_call_options.as_attrs(),\n\u001b[32m    261\u001b[39m     )\n",
      "\u001b[36mFile \u001b[39m\u001b[32m~\\AppData\\Roaming\\Python\\Python313\\site-packages\\tensorflow\\python\\eager\\context.py:1688\u001b[39m, in \u001b[36mContext.call_function\u001b[39m\u001b[34m(self, name, tensor_inputs, num_outputs)\u001b[39m\n\u001b[32m   1686\u001b[39m cancellation_context = cancellation.context()\n\u001b[32m   1687\u001b[39m \u001b[38;5;28;01mif\u001b[39;00m cancellation_context \u001b[38;5;129;01mis\u001b[39;00m \u001b[38;5;28;01mNone\u001b[39;00m:\n\u001b[32m-> \u001b[39m\u001b[32m1688\u001b[39m   outputs = \u001b[43mexecute\u001b[49m\u001b[43m.\u001b[49m\u001b[43mexecute\u001b[49m\u001b[43m(\u001b[49m\n\u001b[32m   1689\u001b[39m \u001b[43m      \u001b[49m\u001b[43mname\u001b[49m\u001b[43m.\u001b[49m\u001b[43mdecode\u001b[49m\u001b[43m(\u001b[49m\u001b[33;43m\"\u001b[39;49m\u001b[33;43mutf-8\u001b[39;49m\u001b[33;43m\"\u001b[39;49m\u001b[43m)\u001b[49m\u001b[43m,\u001b[49m\n\u001b[32m   1690\u001b[39m \u001b[43m      \u001b[49m\u001b[43mnum_outputs\u001b[49m\u001b[43m=\u001b[49m\u001b[43mnum_outputs\u001b[49m\u001b[43m,\u001b[49m\n\u001b[32m   1691\u001b[39m \u001b[43m      \u001b[49m\u001b[43minputs\u001b[49m\u001b[43m=\u001b[49m\u001b[43mtensor_inputs\u001b[49m\u001b[43m,\u001b[49m\n\u001b[32m   1692\u001b[39m \u001b[43m      \u001b[49m\u001b[43mattrs\u001b[49m\u001b[43m=\u001b[49m\u001b[43mattrs\u001b[49m\u001b[43m,\u001b[49m\n\u001b[32m   1693\u001b[39m \u001b[43m      \u001b[49m\u001b[43mctx\u001b[49m\u001b[43m=\u001b[49m\u001b[38;5;28;43mself\u001b[39;49m\u001b[43m,\u001b[49m\n\u001b[32m   1694\u001b[39m \u001b[43m  \u001b[49m\u001b[43m)\u001b[49m\n\u001b[32m   1695\u001b[39m \u001b[38;5;28;01melse\u001b[39;00m:\n\u001b[32m   1696\u001b[39m   outputs = execute.execute_with_cancellation(\n\u001b[32m   1697\u001b[39m       name.decode(\u001b[33m\"\u001b[39m\u001b[33mutf-8\u001b[39m\u001b[33m\"\u001b[39m),\n\u001b[32m   1698\u001b[39m       num_outputs=num_outputs,\n\u001b[32m   (...)\u001b[39m\u001b[32m   1702\u001b[39m       cancellation_manager=cancellation_context,\n\u001b[32m   1703\u001b[39m   )\n",
      "\u001b[36mFile \u001b[39m\u001b[32m~\\AppData\\Roaming\\Python\\Python313\\site-packages\\tensorflow\\python\\eager\\execute.py:53\u001b[39m, in \u001b[36mquick_execute\u001b[39m\u001b[34m(op_name, num_outputs, inputs, attrs, ctx, name)\u001b[39m\n\u001b[32m     51\u001b[39m \u001b[38;5;28;01mtry\u001b[39;00m:\n\u001b[32m     52\u001b[39m   ctx.ensure_initialized()\n\u001b[32m---> \u001b[39m\u001b[32m53\u001b[39m   tensors = \u001b[43mpywrap_tfe\u001b[49m\u001b[43m.\u001b[49m\u001b[43mTFE_Py_Execute\u001b[49m\u001b[43m(\u001b[49m\u001b[43mctx\u001b[49m\u001b[43m.\u001b[49m\u001b[43m_handle\u001b[49m\u001b[43m,\u001b[49m\u001b[43m \u001b[49m\u001b[43mdevice_name\u001b[49m\u001b[43m,\u001b[49m\u001b[43m \u001b[49m\u001b[43mop_name\u001b[49m\u001b[43m,\u001b[49m\n\u001b[32m     54\u001b[39m \u001b[43m                                      \u001b[49m\u001b[43minputs\u001b[49m\u001b[43m,\u001b[49m\u001b[43m \u001b[49m\u001b[43mattrs\u001b[49m\u001b[43m,\u001b[49m\u001b[43m \u001b[49m\u001b[43mnum_outputs\u001b[49m\u001b[43m)\u001b[49m\n\u001b[32m     55\u001b[39m \u001b[38;5;28;01mexcept\u001b[39;00m core._NotOkStatusException \u001b[38;5;28;01mas\u001b[39;00m e:\n\u001b[32m     56\u001b[39m   \u001b[38;5;28;01mif\u001b[39;00m name \u001b[38;5;129;01mis\u001b[39;00m \u001b[38;5;129;01mnot\u001b[39;00m \u001b[38;5;28;01mNone\u001b[39;00m:\n",
      "\u001b[31mKeyboardInterrupt\u001b[39m: "
     ]
    }
   ],
   "source": [
    "\"\"\"\n",
    "Train a U-Net model using the given image and mask data. epochs should be 83\n",
    "\"\"\"\n",
    "train_dataset = tf.data.Dataset.from_tensor_slices((\n",
    "    np.array(framObjTrain['img']),\n",
    "    np.array(framObjTrain['mask'])\n",
    "))\n",
    "\n",
    "def augment_fn(image, mask):\n",
    "    image = data_augmentation(image)\n",
    "    return tf.expand_dims(image, axis=0), tf.expand_dims(mask, axis=0)\n",
    "\n",
    "\n",
    "train_dataset = train_dataset.map(augment_fn)\n",
    "\n",
    "retVal = unet.fit(train_dataset, epochs=83, verbose=1)\n"
   ]
  },
  {
   "cell_type": "code",
   "execution_count": null,
   "metadata": {},
   "outputs": [],
   "source": [
    "\"\"\"\n",
    "Plots the training loss and accuracy from the `retVal` history.\n",
    "\n",
    "Parameters:\n",
    "- retVal (object): The history object containing the training loss and accuracy.\n",
    "\n",
    "Returns:\n",
    "None\n",
    "\"\"\"\n",
    "plt.plot(retVal.history['loss'], label='training_loss')\n",
    "plt.plot(retVal.history['accuracy'], label='training_accuracy')\n",
    "plt.legend()\n",
    "plt.grid(True)"
   ]
  },
  {
   "cell_type": "code",
   "execution_count": null,
   "metadata": {
    "papermill": {
     "duration": 2.469852,
     "end_time": "2021-09-25T05:57:34.721045",
     "exception": false,
     "start_time": "2021-09-25T05:57:32.251193",
     "status": "completed"
    },
    "tags": []
   },
   "outputs": [],
   "source": [
    "def predict16(valMap, model, shape=128):\n",
    "    \"\"\"\n",
    "    Predicts the output for a batch of 16 images using the given model.\n",
    "\n",
    "    Args:\n",
    "        valMap (dict): A dictionary containing the input images and masks.\n",
    "        model: The trained model used for prediction.\n",
    "        shape (int): The shape of the images.\n",
    "\n",
    "    Returns:\n",
    "        predictions: The predicted output for the batch of images.\n",
    "        imgProc: The processed input images.\n",
    "        mask: The ground truth masks.\n",
    "    \"\"\"\n",
    "    img = valMap['img'][0:16]\n",
    "    mask = valMap['mask'][0:16]\n",
    "    \n",
    "    imgProc = img[0:16]\n",
    "    imgProc = np.array(img)\n",
    "    \n",
    "    predictions = model.predict(imgProc)\n",
    "\n",
    "    return predictions, imgProc, mask\n",
    "\n",
    "\n",
    "def Plotter(img, predMask, groundTruth):\n",
    "    \"\"\"\n",
    "    Plots the aerial image, predicted routes, and actual routes side by side.\n",
    "\n",
    "    Args:\n",
    "        img (numpy.ndarray): The aerial image.\n",
    "        predMask (numpy.ndarray): The predicted routes.\n",
    "        groundTruth (numpy.ndarray): The actual routes.\n",
    "    \"\"\"\n",
    "    plt.figure(figsize=(9,9))\n",
    "    \n",
    "    plt.subplot(1,3,1)\n",
    "    plt.imshow(img)\n",
    "    plt.title('Aerial image')\n",
    "    \n",
    "    plt.subplot(1,3,2)\n",
    "    plt.imshow(predMask)\n",
    "    plt.title('Predicted Routes')\n",
    "    \n",
    "    plt.subplot(1,3,3)\n",
    "    plt.imshow(groundTruth)\n",
    "    plt.title('Actual Routes')"
   ]
  },
  {
   "cell_type": "code",
   "execution_count": null,
   "metadata": {
    "papermill": {
     "duration": 3.36507,
     "end_time": "2021-09-25T05:57:40.29918",
     "exception": false,
     "start_time": "2021-09-25T05:57:36.93411",
     "status": "completed"
    },
    "tags": []
   },
   "outputs": [],
   "source": [
    "sixteenPrediction, actuals, masks = predict16(framObjTrain, unet)"
   ]
  },
  {
   "cell_type": "code",
   "execution_count": null,
   "metadata": {
    "papermill": {
     "duration": 2.547893,
     "end_time": "2021-09-25T05:57:45.081848",
     "exception": false,
     "start_time": "2021-09-25T05:57:42.533955",
     "status": "completed"
    },
    "tags": []
   },
   "outputs": [],
   "source": [
    "Plotter(actuals[2], sixteenPrediction[2][:,:,0], masks[2])"
   ]
  },
  {
   "cell_type": "code",
   "execution_count": null,
   "metadata": {
    "papermill": {
     "duration": 2.550279,
     "end_time": "2021-09-25T05:57:50.144119",
     "exception": false,
     "start_time": "2021-09-25T05:57:47.59384",
     "status": "completed"
    },
    "tags": []
   },
   "outputs": [],
   "source": [
    "Plotter(actuals[10], sixteenPrediction[10][:,:,0], masks[10])"
   ]
  },
  {
   "cell_type": "code",
   "execution_count": null,
   "metadata": {
    "papermill": {
     "duration": 2.518212,
     "end_time": "2021-09-25T05:57:54.885127",
     "exception": false,
     "start_time": "2021-09-25T05:57:52.366915",
     "status": "completed"
    },
    "tags": []
   },
   "outputs": [],
   "source": [
    "Plotter(actuals[13], sixteenPrediction[13][:,:,0], masks[13])"
   ]
  },
  {
   "cell_type": "code",
   "execution_count": null,
   "metadata": {
    "papermill": {
     "duration": 3.017823,
     "end_time": "2021-09-25T05:58:00.356324",
     "exception": false,
     "start_time": "2021-09-25T05:57:57.338501",
     "status": "completed"
    },
    "tags": []
   },
   "outputs": [],
   "source": [
    "Plotter(actuals[5], sixteenPrediction[5][:,:,0], masks[5])"
   ]
  },
  {
   "cell_type": "code",
   "execution_count": null,
   "metadata": {
    "papermill": {
     "duration": 2.546436,
     "end_time": "2021-09-25T05:58:05.128939",
     "exception": false,
     "start_time": "2021-09-25T05:58:02.582503",
     "status": "completed"
    },
    "tags": []
   },
   "outputs": [],
   "source": [
    "Plotter(actuals[15], sixteenPrediction[15][:,:,0], masks[15])"
   ]
  },
  {
   "cell_type": "code",
   "execution_count": null,
   "metadata": {
    "papermill": {
     "duration": 2.673756,
     "end_time": "2021-09-25T05:58:10.253627",
     "exception": false,
     "start_time": "2021-09-25T05:58:07.579871",
     "status": "completed"
    },
    "tags": []
   },
   "outputs": [],
   "source": [
    "unet.save('MapSegmentationGenerator.keras')"
   ]
  },
  {
   "cell_type": "code",
   "execution_count": null,
   "metadata": {},
   "outputs": [],
   "source": [
    "from tensorflow.keras.models import load_model\n",
    "model = load_model('MapSegmentationGenerator.keras', compile=True)\n",
    "model.compile(optimizer='rmsprop', loss='binary_crossentropy', metrics=['accuracy'])"
   ]
  },
  {
   "cell_type": "code",
   "execution_count": null,
   "metadata": {},
   "outputs": [],
   "source": [
    "import numpy as np\n",
    "from PIL import Image\n",
    "\n",
    "def predict_images(model, image_paths):\n",
    "    \"\"\"\n",
    "    Predicts the output of the given model for a list of input images.\n",
    "    \"\"\"\n",
    "    predictions = []\n",
    "    for path in image_paths:\n",
    "        # Use the same preprocessing as training\n",
    "        image = plt.imread(path)\n",
    "        image = cv2.resize(image, (128, 128))\n",
    "        \n",
    "        # If image has 4 channels (RGBA), convert to 3 channels (RGB)\n",
    "        if image.shape[-1] == 4:\n",
    "            image = cv2.cvtColor(image, cv2.COLOR_RGBA2RGB)\n",
    "        \n",
    "        # Ensure the image is in the same format as training data\n",
    "        prediction = model.predict(np.expand_dims(image, axis=0))\n",
    "        predictions.append(prediction)\n",
    "    return predictions\n",
    "\n",
    "# Usage example\n",
    "image_paths = [\n",
    "    'data/test/1_sat.jpg',\n",
    "    'data/test/1000_sat.jpg',\n",
    "    'data/test/1500_sat.jpg',\n",
    "    'data/test/2000_sat.jpg'\n",
    "]\n",
    "predictions = predict_images(model, image_paths)"
   ]
  },
  {
   "cell_type": "code",
   "execution_count": null,
   "metadata": {},
   "outputs": [],
   "source": [
    "import matplotlib.pyplot as plt\n",
    "import numpy as np\n",
    "from PIL import Image\n",
    "\n",
    "def visualize_results(predicted_mask, original_image, save_path=None):\n",
    "    \"\"\"\n",
    "    Visualizes the predicted mask and the original image side by side.\n",
    "\n",
    "    Args:\n",
    "        predicted_mask (numpy.ndarray): The predicted mask.\n",
    "        original_image (numpy.ndarray): The original image.\n",
    "        save_path (str, optional): The file path to save the visualization. If not provided, the visualization will be displayed.\n",
    "\n",
    "    Returns:\n",
    "        None\n",
    "    \"\"\"\n",
    "    # Convert to NumPy arrays and ensure numeric data types\n",
    "    original_image = np.array(original_image).astype(np.uint8)\n",
    "    predicted_mask = np.array(predicted_mask).astype(np.float32)\n",
    " \n",
    "    # Display the original image\n",
    "    plt.figure(figsize=(10, 5))\n",
    "\n",
    "    # Original Image\n",
    "    plt.subplot(1, 2, 1)\n",
    "    plt.imshow(original_image)\n",
    "    plt.title('Original Image')\n",
    "    plt.axis('off')\n",
    "\n",
    "    # Predicted Mask\n",
    "    plt.subplot(1, 2, 2)\n",
    "    plt.imshow(np.squeeze(predicted_mask), vmin=0, vmax=1)\n",
    "    plt.title('Predicted Mask')\n",
    "    plt.axis('off')\n",
    "\n",
    "    if save_path:\n",
    "        plt.savefig(save_path)\n",
    "    else:\n",
    "        plt.show()"
   ]
  },
  {
   "cell_type": "code",
   "execution_count": null,
   "metadata": {},
   "outputs": [],
   "source": [
    "im1 = Image.open('data/test/1_sat.jpg')\n",
    "im2 = Image.open('data/test/1000_sat.jpg')\n",
    "im3 = Image.open('data/test/1500_sat.jpg')\n",
    "im4 = Image.open('data/test/2000_sat.jpg')\n",
    "visualize_results(predictions[0], im1)\n",
    "visualize_results(predictions[1], im2)\n",
    "visualize_results(predictions[2], im3)\n",
    "visualize_results(predictions[3], im4)"
   ]
  },
  {
   "cell_type": "code",
   "execution_count": null,
   "metadata": {},
   "outputs": [],
   "source": []
  }
 ],
 "metadata": {
  "kaggle": {
   "accelerator": "nvidiaTeslaT4",
   "dataSources": [
    {
     "datasetId": 966140,
     "sourceId": 1634186,
     "sourceType": "datasetVersion"
    },
    {
     "datasetId": 4387440,
     "sourceId": 7533032,
     "sourceType": "datasetVersion"
    }
   ],
   "dockerImageVersionId": 30302,
   "isGpuEnabled": true,
   "isInternetEnabled": true,
   "language": "python",
   "sourceType": "notebook"
  },
  "kernelspec": {
   "display_name": "Python 3",
   "language": "python",
   "name": "python3"
  },
  "language_info": {
   "codemirror_mode": {
    "name": "ipython",
    "version": 3
   },
   "file_extension": ".py",
   "mimetype": "text/x-python",
   "name": "python",
   "nbconvert_exporter": "python",
   "pygments_lexer": "ipython3",
   "version": "3.13.1"
  }
 },
 "nbformat": 4,
 "nbformat_minor": 4
}
